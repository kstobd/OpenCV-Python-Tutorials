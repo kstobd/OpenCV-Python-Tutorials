{
  "cells": [
    {
      "cell_type": "code",
      "execution_count": 79,
      "metadata": {},
      "outputs": [],
      "source": [
        "import matplotlib.pyplot as plt\n",
        "import cv2 as cv\n",
        "import numpy as np"
      ]
    },
    {
      "cell_type": "code",
      "execution_count": 80,
      "metadata": {},
      "outputs": [],
      "source": [
        "card = '../../image4labs/dec_cards.jpg'\n",
        "\n",
        "img = cv.imread(card, cv.IMREAD_GRAYSCALE)\n",
        "assert img is not None, \"file could not be read, check with os.path.exists()\"\n",
        "\n",
        "ret, thresh = cv.threshold(img, 127, 255, 0)\n",
        "contours, hierarchy = cv.findContours(thresh, 1, 2)"
      ]
    },
    {
      "cell_type": "code",
      "execution_count": 91,
      "metadata": {},
      "outputs": [
        {
          "name": "stdout",
          "output_type": "stream",
          "text": [
            "[[[396 520]]\n",
            "\n",
            " [[395 521]]\n",
            "\n",
            " [[393 521]]\n",
            "\n",
            " [[392 522]]\n",
            "\n",
            " [[392 524]]\n",
            "\n",
            " [[391 525]]\n",
            "\n",
            " [[391 563]]\n",
            "\n",
            " [[392 564]]\n",
            "\n",
            " [[392 565]]\n",
            "\n",
            " [[394 567]]\n",
            "\n",
            " [[400 567]]\n",
            "\n",
            " [[402 565]]\n",
            "\n",
            " [[402 563]]\n",
            "\n",
            " [[403 562]]\n",
            "\n",
            " [[403 525]]\n",
            "\n",
            " [[402 524]]\n",
            "\n",
            " [[402 523]]\n",
            "\n",
            " [[401 522]]\n",
            "\n",
            " [[401 521]]\n",
            "\n",
            " [[399 521]]\n",
            "\n",
            " [[398 520]]]\n"
          ]
        }
      ],
      "source": [
        "cnt = contours[0]\n",
        "print(cnt)"
      ]
    },
    {
      "cell_type": "markdown",
      "metadata": {},
      "source": [
        "Соотношение сторон\n",
        "Это отношение ширины к высоте ограничивающего прямоугольника объекта.\n"
      ]
    },
    {
      "cell_type": "code",
      "execution_count": 82,
      "metadata": {},
      "outputs": [
        {
          "data": {
            "text/plain": [
              "0.2708333333333333"
            ]
          },
          "execution_count": 82,
          "metadata": {},
          "output_type": "execute_result"
        }
      ],
      "source": [
        "x, y, w, h = cv.boundingRect(cnt)\n",
        "aspect_ratio = float(w)/h\n",
        "aspect_ratio"
      ]
    },
    {
      "cell_type": "markdown",
      "metadata": {},
      "source": [
        "Протяженность\n",
        "Протяженность — это отношение площади контура к площади ограничивающего прямоугольника.\n"
      ]
    },
    {
      "cell_type": "code",
      "execution_count": 83,
      "metadata": {},
      "outputs": [
        {
          "data": {
            "text/plain": [
              "0.8557692307692307"
            ]
          },
          "execution_count": 83,
          "metadata": {},
          "output_type": "execute_result"
        }
      ],
      "source": [
        "area = cv.contourArea(cnt)\n",
        "x, y, w, h = cv.boundingRect(cnt)\n",
        "rect_area = w*h\n",
        "extent = float(area)/rect_area\n",
        "extent"
      ]
    },
    {
      "cell_type": "markdown",
      "metadata": {},
      "source": [
        "Прочность\n",
        "Прочность — это отношение площади контура к площади выпуклой части корпуса.\n"
      ]
    },
    {
      "cell_type": "code",
      "execution_count": 84,
      "metadata": {},
      "outputs": [
        {
          "name": "stdout",
          "output_type": "stream",
          "text": [
            "solidity 0.989805375347544\n"
          ]
        }
      ],
      "source": [
        "hull = cv.convexHull(cnt)\n",
        "hull_area = cv.contourArea(hull)\n",
        "solidity = float(area)/hull_area if hull_area != 0 else 'inf'\n",
        "print(\"solidity\", solidity)"
      ]
    },
    {
      "cell_type": "markdown",
      "metadata": {},
      "source": [
        "Эквивалентный диаметр\n",
        "Эквивалентный диаметр — диаметр круга, площадь которого равна площади контура.\n"
      ]
    },
    {
      "cell_type": "code",
      "execution_count": null,
      "metadata": {},
      "outputs": [
        {
          "name": "stdout",
          "output_type": "stream",
          "text": [
            "equi_diameter 26.075082298788182\n"
          ]
        }
      ],
      "source": [
        "equi_diameter = np.sqrt(4*area/np.pi)\n",
        "print(\"equi_diameter\", equi_diameter)"
      ]
    },
    {
      "cell_type": "markdown",
      "metadata": {},
      "source": [
        "Ориентация\n",
        "Ориентация — это угол, под которым направлен объект. Следующий метод также дает длины Большой и Малой осей.\n"
      ]
    },
    {
      "cell_type": "code",
      "execution_count": 86,
      "metadata": {},
      "outputs": [
        {
          "name": "stdout",
          "output_type": "stream",
          "text": [
            "fit elipse 396.8733825683594 543.8215942382812 19.22096824645996 48.24970245361328 0.12903480231761932\n"
          ]
        }
      ],
      "source": [
        "(x, y), (MA, ma), angle = cv.fitEllipse(cnt)\n",
        "print(\"fit elipse\", x, y, MA, ma, angle)"
      ]
    },
    {
      "cell_type": "markdown",
      "metadata": {},
      "source": [
        "Маска и пиксельные точки\n",
        "В некоторых случаях нам могут понадобиться все точки, которые составляют этот объект. Это можно сделать следующим образом:\n"
      ]
    },
    {
      "cell_type": "code",
      "execution_count": null,
      "metadata": {},
      "outputs": [
        {
          "name": "stdout",
          "output_type": "stream",
          "text": [
            "pixelpoints [[[396 520]]\n",
            "\n",
            " [[397 520]]\n",
            "\n",
            " [[398 520]]\n",
            "\n",
            " ...\n",
            "\n",
            " [[398 567]]\n",
            "\n",
            " [[399 567]]\n",
            "\n",
            " [[400 567]]]\n"
          ]
        }
      ],
      "source": [
        "mask = np.zeros(img.shape, np.uint8)\n",
        "cv.drawContours(mask, [cnt], 0, 255, -1)\n",
        "pixelpoints = np.transpose(np.nonzero(mask))\n",
        "pixelpoints = cv.findNonZero(mask)\n",
        "print('pixelpoints', pixelpoints)"
      ]
    },
    {
      "cell_type": "markdown",
      "metadata": {},
      "source": [
        "Максимальное значение, минимальное значение и их местоположение\n",
        "Эти параметры мы можем найти с помощью изображения-маски.\n"
      ]
    },
    {
      "cell_type": "code",
      "execution_count": null,
      "metadata": {},
      "outputs": [
        {
          "name": "stdout",
          "output_type": "stream",
          "text": [
            "min max loc 128.0 255.0 (403, 560) (394, 522)\n"
          ]
        }
      ],
      "source": [
        "min_val, max_val, min_loc, max_loc = cv.minMaxLoc(img, mask=mask)\n",
        "print(\"min max loc\", min_val, max_val, min_loc, max_loc)"
      ]
    },
    {
      "cell_type": "markdown",
      "metadata": {},
      "source": [
        "Средний цвет или средняя интенсивность\n",
        "Здесь мы можем найти средний цвет объекта. Или это может быть средняя интенсивность объекта в режиме оттенков серого. Для этого мы снова используем ту же маску.\n"
      ]
    },
    {
      "cell_type": "code",
      "execution_count": null,
      "metadata": {},
      "outputs": [
        {
          "name": "stdout",
          "output_type": "stream",
          "text": [
            "mean_val (235.67857142857142, 0.0, 0.0, 0.0)\n"
          ]
        }
      ],
      "source": [
        "mean_val = cv.mean(img, mask=mask)\n",
        "print(\"mean_val\", mean_val)"
      ]
    },
    {
      "cell_type": "markdown",
      "metadata": {},
      "source": [
        "Крайние точки\n",
        "Крайние точки — это самая верхняя, самая нижняя, самая правая и самая левая точки объекта.\n"
      ]
    },
    {
      "cell_type": "code",
      "execution_count": null,
      "metadata": {},
      "outputs": [
        {
          "name": "stdout",
          "output_type": "stream",
          "text": [
            "points (np.int32(391), np.int32(525)) (np.int32(403), np.int32(562)) (np.int32(396), np.int32(520)) (np.int32(394), np.int32(567))\n"
          ]
        }
      ],
      "source": [
        "leftmost = tuple(cnt[cnt[:, :, 0].argmin()][0])\n",
        "rightmost = tuple(cnt[cnt[:, :, 0].argmax()][0])\n",
        "topmost = tuple(cnt[cnt[:, :, 1].argmin()][0])\n",
        "bottommost = tuple(cnt[cnt[:, :, 1].argmax()][0])\n",
        "print(\"points\", leftmost, rightmost, topmost, bottommost)"
      ]
    }
  ],
  "metadata": {
    "kernelspec": {
      "display_name": "env",
      "language": "python",
      "name": "python3"
    },
    "language_info": {
      "codemirror_mode": {
        "name": "ipython",
        "version": 3
      },
      "file_extension": ".py",
      "mimetype": "text/x-python",
      "name": "python",
      "nbconvert_exporter": "python",
      "pygments_lexer": "ipython3",
      "version": "3.9.7"
    }
  },
  "nbformat": 4,
  "nbformat_minor": 2
}
